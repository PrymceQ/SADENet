{
 "cells": [
  {
   "cell_type": "code",
   "execution_count": 12,
   "metadata": {},
   "outputs": [],
   "source": [
    "import pandas as pd\n",
    "import pickle\n",
    "import os\n",
    "import json\n",
    "# 读取文件\n",
    "file = open(r\".\\result.pkl\",\"rb\")\n",
    "data = pickle.load(file)\n",
    "file.close()\n",
    "\n",
    "# test_root = r'.\\tiny_set\\erase_with_uncertain_dataset\\test'\n",
    "# image_list = os.listdir(test_root)\n",
    "\n",
    "# 开始遍历\n",
    "image_id = 0\n",
    "output_list = []\n",
    "\n",
    "class_dict = {1:'person'}\n",
    "\n",
    "for i in range(len(data)):\n",
    "    for j in data[i][0]:\n",
    "        tl_x = float(j[0])\n",
    "        tl_y = float(j[1])\n",
    "        br_x = float(j[2])\n",
    "        br_y = float(j[3])\n",
    "\n",
    "        # convert\n",
    "        h = br_y - tl_y\n",
    "        w = br_x - tl_x\n",
    "    \n",
    "        bbox_list = [tl_x, tl_y, w, h]\n",
    "        score = float(j[4])\n",
    "\n",
    "        output_list.append({'image_id': image_id, 'category_id': 1, 'bbox': bbox_list, 'score': score})\n",
    "    \n",
    "    image_id += 1\n",
    "    \n",
    "\n",
    "# 结果写入json文件中\n",
    "save_to_file = r'./result.json'\n",
    "with open(save_to_file, 'w', encoding ='utf8') as f:\n",
    "    json.dump(output_list, f, indent=4)"
   ]
  },
  {
   "cell_type": "code",
   "execution_count": 17,
   "metadata": {},
   "outputs": [
    {
     "name": "stdout",
     "output_type": "stream",
     "text": [
      "{'image_id': 8, 'category_id': 1, 'bbox': [221.98660278320312, 421.128173828125, 25.045013427734375, 16.103912353515625], 'score': 0.8113441467285156}\n",
      "{'image_id': 8, 'category_id': 1, 'bbox': [218.5985107421875, 419.57666015625, 45.15185546875, 19.99676513671875], 'score': 0.41292765736579895}\n",
      "{'image_id': 8, 'category_id': 1, 'bbox': [242.2711639404297, 421.69525146484375, 19.852981567382812, 17.91448974609375], 'score': 0.24101696908473969}\n",
      "{'image_id': 8, 'category_id': 1, 'bbox': [223.49551391601562, 423.0960998535156, 21.081619262695312, 10.2977294921875], 'score': 0.126633420586586}\n",
      "{'image_id': 8, 'category_id': 1, 'bbox': [238.5193328857422, 420.55853271484375, 25.602188110351562, 20.11669921875], 'score': 0.05892645940184593}\n",
      "{'image_id': 9, 'category_id': 1, 'bbox': [345.7041015625, 380.97662353515625, 16.989227294921875, 17.88397216796875], 'score': 0.9609948396682739}\n",
      "{'image_id': 9, 'category_id': 1, 'bbox': [545.96533203125, 403.7432861328125, 22.19586181640625, 17.50042724609375], 'score': 0.886130154132843}\n",
      "{'image_id': 9, 'category_id': 1, 'bbox': [378.19659423828125, 404.9600830078125, 20.6229248046875, 13.1192626953125], 'score': 0.5557934045791626}\n",
      "{'image_id': 9, 'category_id': 1, 'bbox': [547.7044677734375, 404.8869934082031, 18.09222412109375, 10.518646240234375], 'score': 0.24271634221076965}\n",
      "{'image_id': 9, 'category_id': 1, 'bbox': [344.0009765625, 379.87493896484375, 19.62353515625, 21.20294189453125], 'score': 0.2031293660402298}\n"
     ]
    }
   ],
   "source": [
    "# 读取保存的json文件查看内容\n",
    "result_json = json.load(open(save_to_file))\n",
    "for i in range(10):\n",
    "    print(result_json[i])"
   ]
  },
  {
   "cell_type": "code",
   "execution_count": null,
   "metadata": {},
   "outputs": [],
   "source": []
  }
 ],
 "metadata": {
  "kernelspec": {
   "display_name": "Python 3.8.5 ('base')",
   "language": "python",
   "name": "python3"
  },
  "language_info": {
   "codemirror_mode": {
    "name": "ipython",
    "version": 3
   },
   "file_extension": ".py",
   "mimetype": "text/x-python",
   "name": "python",
   "nbconvert_exporter": "python",
   "pygments_lexer": "ipython3",
   "version": "3.8.5"
  },
  "orig_nbformat": 4,
  "vscode": {
   "interpreter": {
    "hash": "c4012971ec14703d4f4fb623ef66de65c80f37e7105b36eebf5e5977c8c8cb53"
   }
  }
 },
 "nbformat": 4,
 "nbformat_minor": 2
}
